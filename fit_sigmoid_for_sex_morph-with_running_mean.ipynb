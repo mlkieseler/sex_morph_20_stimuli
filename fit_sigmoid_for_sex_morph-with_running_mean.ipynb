{
 "cells": [
  {
   "cell_type": "code",
   "execution_count": 57,
   "metadata": {},
   "outputs": [],
   "source": [
    "import csv\n",
    "import os\n",
    "import numpy as np\n",
    "from numpy import *\n",
    "import matplotlib.pyplot as plt\n",
    "import pandas as pd\n",
    "from __future__ import division\n",
    "import re\n",
    "from scipy import optimize as sp\n",
    "import glob\n",
    "import scipy\n",
    "from os import path\n"
   ]
  },
  {
   "cell_type": "code",
   "execution_count": 99,
   "metadata": {},
   "outputs": [],
   "source": [
    "directory = \"/Users/marie/Documents/Projects/morph_project/sex_moprh/sex_morph_20_trials/data/results/63_83__113_53_inlab/sex_morph/graphs/csv_files/*.csv\""
   ]
  },
  {
   "cell_type": "code",
   "execution_count": 100,
   "metadata": {},
   "outputs": [],
   "source": [
    "datafiles = []\n",
    "datafiles.append(glob.glob(directory))"
   ]
  },
  {
   "cell_type": "code",
   "execution_count": 101,
   "metadata": {},
   "outputs": [
    {
     "data": {
      "text/plain": [
       "['/Users/marie/Documents/Projects/morph_project/sex_moprh/sex_morph_20_trials/data/results/63_83__113_53_inlab/sex_morph/graphs/csv_files/csvFile for F001YQ0.csv',\n",
       " '/Users/marie/Documents/Projects/morph_project/sex_moprh/sex_morph_20_trials/data/results/63_83__113_53_inlab/sex_morph/graphs/csv_files/csvFile for f0042w6.csv',\n",
       " '/Users/marie/Documents/Projects/morph_project/sex_moprh/sex_morph_20_trials/data/results/63_83__113_53_inlab/sex_morph/graphs/csv_files/csvFile for F003X50.csv',\n",
       " '/Users/marie/Documents/Projects/morph_project/sex_moprh/sex_morph_20_trials/data/results/63_83__113_53_inlab/sex_morph/graphs/csv_files/csvFile for f003d5q.csv',\n",
       " '/Users/marie/Documents/Projects/morph_project/sex_moprh/sex_morph_20_trials/data/results/63_83__113_53_inlab/sex_morph/graphs/csv_files/csvFile for f003d8d.csv',\n",
       " '/Users/marie/Documents/Projects/morph_project/sex_moprh/sex_morph_20_trials/data/results/63_83__113_53_inlab/sex_morph/graphs/csv_files/csvFile for F003WYC.csv',\n",
       " '/Users/marie/Documents/Projects/morph_project/sex_moprh/sex_morph_20_trials/data/results/63_83__113_53_inlab/sex_morph/graphs/csv_files/csvFile for F003WZD.csv',\n",
       " '/Users/marie/Documents/Projects/morph_project/sex_moprh/sex_morph_20_trials/data/results/63_83__113_53_inlab/sex_morph/graphs/csv_files/csvFile for f003md7.csv',\n",
       " '/Users/marie/Documents/Projects/morph_project/sex_moprh/sex_morph_20_trials/data/results/63_83__113_53_inlab/sex_morph/graphs/csv_files/csvFile for f0043qz.csv',\n",
       " '/Users/marie/Documents/Projects/morph_project/sex_moprh/sex_morph_20_trials/data/results/63_83__113_53_inlab/sex_morph/graphs/csv_files/csvFile for f003dg6.csv']"
      ]
     },
     "execution_count": 101,
     "metadata": {},
     "output_type": "execute_result"
    }
   ],
   "source": [
    "datafiles[0]"
   ]
  },
  {
   "cell_type": "code",
   "execution_count": 88,
   "metadata": {},
   "outputs": [],
   "source": [
    "def fitting(x, x0, L, R, slope):\n",
    "    return L-((L-R)/(1+exp((-x+x0)/slope)))\n"
   ]
  },
  {
   "cell_type": "code",
   "execution_count": 10,
   "metadata": {},
   "outputs": [],
   "source": [
    "# len('/Users/marie/Documents/Projects/morph_project/data/pilot/sex_morph/sex_morph_results_20190619_1846/csv-results-files/CSV_Files/csvFile for')\n",
    "# name = datafiles[0][0][139:-4]\n",
    "# name\n"
   ]
  },
  {
   "cell_type": "code",
   "execution_count": 62,
   "metadata": {},
   "outputs": [],
   "source": [
    "# plot function\n",
    "\n",
    "def running_mean(x, N):\n",
    "    cumsum = np.cumsum(np.insert(x, 0, 0)) \n",
    "    return (cumsum[N:] - cumsum[:-N]) / float(N)\n",
    "\n",
    "\n",
    "def plotting(popt, steps, continuum, continuumname, name):\n",
    "    popt, pcov = scipy.optimize.curve_fit(fitting, running_mean(steps,2), running_mean(continuum,2))#, bounds=(0,[10,1,1,inf]))\n",
    "    plt.plot(np.arange(1,9,0.1), fitting(np.arange(1,9,0.1), *popt), 'r-', label='fit')\n",
    "    plt.plot(steps, continuum)\n",
    "    plt.ylim([0.0, 1.05])\n",
    "    plt.title(name +\" \" +str(continuumname))\n",
    "    plt.savefig(path.join(outpath, name + ' ' + str(continuumname + '.jpeg'))) # + ' ' + str(continuum[0]), format='jpeg')\n"
   ]
  },
  {
   "cell_type": "code",
   "execution_count": 17,
   "metadata": {},
   "outputs": [
    {
     "data": {
      "text/plain": [
       "137"
      ]
     },
     "execution_count": 17,
     "metadata": {},
     "output_type": "execute_result"
    }
   ],
   "source": [
    "len('/Users/marie/Documents/Projects/morph_project/sex_moprh/sex_morph_20_trials/data/results/63_83__113_53_online/sex_morph/graphs/csv_files/')"
   ]
  },
  {
   "cell_type": "markdown",
   "metadata": {},
   "source": [
    "## Before running the next cell make 4 changes to the continua whenever you switch them\n",
    "## change outpath before running"
   ]
  },
  {
   "cell_type": "code",
   "execution_count": 104,
   "metadata": {},
   "outputs": [
    {
     "name": "stdout",
     "output_type": "stream",
     "text": [
      "svFile for F001YQ0\n",
      "['svFile for F001YQ0']\n",
      "[ 5.31125919e+00  9.66705340e-01 -2.98816466e-03  8.96881201e-01]\n",
      "svFile for f0042w6\n",
      "['svFile for F001YQ0', 'svFile for f0042w6']\n",
      "[ 4.55072153  1.01151701 -0.00949927  0.54817338]\n",
      "svFile for F003X50\n",
      "['svFile for F001YQ0', 'svFile for f0042w6', 'svFile for F003X50']\n",
      "[4.98057352 0.98177269 0.02286996 0.62061569]\n",
      "svFile for f003d5q\n",
      "['svFile for F001YQ0', 'svFile for f0042w6', 'svFile for F003X50', 'svFile for f003d5q']\n",
      "[ 4.92836726  1.01242407 -0.0067125   0.57044821]\n",
      "svFile for f003d8d\n",
      "['svFile for F001YQ0', 'svFile for f0042w6', 'svFile for F003X50', 'svFile for f003d5q', 'svFile for f003d8d']\n",
      "[4.56411205e+00 1.00786538e+00 1.54492527e-03 5.90656897e-01]\n",
      "svFile for F003WYC\n",
      "['svFile for F001YQ0', 'svFile for f0042w6', 'svFile for F003X50', 'svFile for f003d5q', 'svFile for f003d8d', 'svFile for F003WYC']\n",
      "[ 3.8322966   1.04052065 -0.01168544  0.72290339]\n",
      "svFile for F003WZD\n",
      "['svFile for F001YQ0', 'svFile for f0042w6', 'svFile for F003X50', 'svFile for f003d5q', 'svFile for f003d8d', 'svFile for F003WYC', 'svFile for F003WZD']\n",
      "[4.1711519  1.0341715  0.06530608 0.67933568]\n",
      "svFile for f003md7\n",
      "['svFile for F001YQ0', 'svFile for f0042w6', 'svFile for F003X50', 'svFile for f003d5q', 'svFile for f003d8d', 'svFile for F003WYC', 'svFile for F003WZD', 'svFile for f003md7']\n",
      "[4.49127133 1.00682354 0.01762308 0.76688866]\n",
      "svFile for f0043qz\n",
      "['svFile for F001YQ0', 'svFile for f0042w6', 'svFile for F003X50', 'svFile for f003d5q', 'svFile for f003d8d', 'svFile for F003WYC', 'svFile for F003WZD', 'svFile for f003md7', 'svFile for f0043qz']\n",
      "[5.34843277 0.90193239 0.0834782  0.70103805]\n",
      "svFile for f003dg6\n",
      "['svFile for F001YQ0', 'svFile for f0042w6', 'svFile for F003X50', 'svFile for f003d5q', 'svFile for f003d8d', 'svFile for F003WYC', 'svFile for F003WZD', 'svFile for f003md7', 'svFile for f0043qz', 'svFile for f003dg6']\n",
      "[5.07939763 0.94462096 0.1713874  0.71585849]\n"
     ]
    },
    {
     "data": {
      "image/png": "[encoded data removed]",
      "text/plain": [
       "<Figure size 432x288 with 1 Axes>"
      ]
     },
     "metadata": {},
     "output_type": "display_data"
    }
   ],
   "source": [
    "Point_of_subj_equ = []\n",
    "slope_at_pose = []\n",
    "names = []\n",
    "counter = 0\n",
    "outpath = \"/Users/marie/Documents/Projects/morph_project/sex_moprh/sex_morph_20_trials/data/results/63_83__113_53_online/sex_morph/graphs/csv_files/\"\n",
    "files= datafiles[0]\n",
    "re.sub(r'Users', \"\", files[0])\n",
    "subj = []\n",
    "response_person_dic = []\n",
    "max_slope = []\n",
    "\n",
    "for i in datafiles[0]:\n",
    "    plt.clf()\n",
    "    name = datafiles[0][counter][137:-4]\n",
    "    print name\n",
    "    names.append(name)\n",
    "    print(names)\n",
    "    frame = pd.read_csv(i)\n",
    "    male = frame.e.values\n",
    "#     print len(male)\n",
    "    continuum = frame.Stimula.values\n",
    "#     print(continuum[0])\n",
    "    # the following four specifications are for 5 repeats per stimulus\n",
    "#     _63M_83F = male[:9]\n",
    "#     _98M_056F = male[9:18]\n",
    "#     _113M_053F = male[18:27]\n",
    "#     _018M_019F = male[27:]\n",
    "    # these specifications are for 20 reps per stim for 018M_019F and 098M_056F:\n",
    "#     _018M_019F = male[:9]\n",
    "    ###CHECK CSV FILE FOR THE ORDER OF THE CONTINUA IN IT BEFORE RUNNING THIS!!!\n",
    "    _113M_053F = male[9:]\n",
    "    _63M_83F = male[:9]\n",
    "#     _098M_056F = male[9:]\n",
    "#     print _63M_83F\n",
    "    steps = frame.Continuum.values[9:] #change here to the value behind the continuum a few lines above\n",
    "    popt, pcov = scipy.optimize.curve_fit(fitting, running_mean(steps,2), running_mean(_113M_053F, 2))#, bounds=(0,[10,1,1,inf])) #change name of continuum in this line\n",
    "#     plt.plot(np.arange(1,9,0.1), fitting(np.arange(1,9,0.1), *popt), 'r-', label='fit')\n",
    "#     plt.title(name)\n",
    "    x0,L,R,slope = popt\n",
    "    L = 1\n",
    "    R = 0\n",
    "    PosE = x0-slope*log((1-2*R)/(2*L-1)) #we are calculating this here in case L and R are not equal to 1 and 0\n",
    "    Point_of_subj_equ.append(PosE)\n",
    "    PosE_slope= 1/slope #-(1-2*L-2*R+4*L*R)/(4*L*slope-4*R*slope)\n",
    "    slope_at_pose.append(PosE_slope)\n",
    "    maxislope = slope\n",
    "    max_slope.append(maxislope)\n",
    "    new_str = re.sub(outpath + r'csvFile for ', \"\", i)\n",
    "    subj.append(new_str)\n",
    "    response_person_dic = {'subj': subj, 'PosE': Point_of_subj_equ, 'slope@PosE' : slope_at_pose, 'max slope' : max_slope}\n",
    "    plotting(popt, steps, _113M_053F, continuum[9],name) #change continuum name here and number in braces after \"continuum\"\n",
    "#     print(slope, PosE_slope)\n",
    "    print(popt)\n",
    "    counter +=1\n",
    "    popt\n",
    "    \n",
    "    \n",
    "    "
   ]
  },
  {
   "cell_type": "markdown",
   "metadata": {},
   "source": [
    "define function for individual plot\n",
    "run that function through the for loop"
   ]
  },
  {
   "cell_type": "markdown",
   "metadata": {},
   "source": [
    "## change the name of the file before executing the next cell"
   ]
  },
  {
   "cell_type": "code",
   "execution_count": 105,
   "metadata": {},
   "outputs": [
    {
     "data": {
      "text/html": [
       "<div>\n",
       "<style scoped>\n",
       "    .dataframe tbody tr th:only-of-type {\n",
       "        vertical-align: middle;\n",
       "    }\n",
       "\n",
       "    .dataframe tbody tr th {\n",
       "        vertical-align: top;\n",
       "    }\n",
       "\n",
       "    .dataframe thead th {\n",
       "        text-align: right;\n",
       "    }\n",
       "</style>\n",
       "<table border=\"1\" class=\"dataframe\">\n",
       "  <thead>\n",
       "    <tr style=\"text-align: right;\">\n",
       "      <th></th>\n",
       "      <th>PosE</th>\n",
       "      <th>max slope</th>\n",
       "      <th>slope@PosE</th>\n",
       "      <th>subj</th>\n",
       "    </tr>\n",
       "  </thead>\n",
       "  <tbody>\n",
       "    <tr>\n",
       "      <th>0</th>\n",
       "      <td>5.311259</td>\n",
       "      <td>0.896881</td>\n",
       "      <td>1.114975</td>\n",
       "      <td>/Users/marie/Documents/Projects/morph_project/...</td>\n",
       "    </tr>\n",
       "    <tr>\n",
       "      <th>1</th>\n",
       "      <td>4.550722</td>\n",
       "      <td>0.548173</td>\n",
       "      <td>1.824240</td>\n",
       "      <td>/Users/marie/Documents/Projects/morph_project/...</td>\n",
       "    </tr>\n",
       "    <tr>\n",
       "      <th>2</th>\n",
       "      <td>4.980574</td>\n",
       "      <td>0.620616</td>\n",
       "      <td>1.611303</td>\n",
       "      <td>/Users/marie/Documents/Projects/morph_project/...</td>\n",
       "    </tr>\n",
       "    <tr>\n",
       "      <th>3</th>\n",
       "      <td>4.928367</td>\n",
       "      <td>0.570448</td>\n",
       "      <td>1.753008</td>\n",
       "      <td>/Users/marie/Documents/Projects/morph_project/...</td>\n",
       "    </tr>\n",
       "    <tr>\n",
       "      <th>4</th>\n",
       "      <td>4.564112</td>\n",
       "      <td>0.590657</td>\n",
       "      <td>1.693030</td>\n",
       "      <td>/Users/marie/Documents/Projects/morph_project/...</td>\n",
       "    </tr>\n",
       "    <tr>\n",
       "      <th>5</th>\n",
       "      <td>3.832297</td>\n",
       "      <td>0.722903</td>\n",
       "      <td>1.383311</td>\n",
       "      <td>/Users/marie/Documents/Projects/morph_project/...</td>\n",
       "    </tr>\n",
       "    <tr>\n",
       "      <th>6</th>\n",
       "      <td>4.171152</td>\n",
       "      <td>0.679336</td>\n",
       "      <td>1.472026</td>\n",
       "      <td>/Users/marie/Documents/Projects/morph_project/...</td>\n",
       "    </tr>\n",
       "    <tr>\n",
       "      <th>7</th>\n",
       "      <td>4.491271</td>\n",
       "      <td>0.766889</td>\n",
       "      <td>1.303970</td>\n",
       "      <td>/Users/marie/Documents/Projects/morph_project/...</td>\n",
       "    </tr>\n",
       "    <tr>\n",
       "      <th>8</th>\n",
       "      <td>5.348433</td>\n",
       "      <td>0.701038</td>\n",
       "      <td>1.426456</td>\n",
       "      <td>/Users/marie/Documents/Projects/morph_project/...</td>\n",
       "    </tr>\n",
       "    <tr>\n",
       "      <th>9</th>\n",
       "      <td>5.079398</td>\n",
       "      <td>0.715858</td>\n",
       "      <td>1.396924</td>\n",
       "      <td>/Users/marie/Documents/Projects/morph_project/...</td>\n",
       "    </tr>\n",
       "  </tbody>\n",
       "</table>\n",
       "</div>"
      ],
      "text/plain": [
       "       PosE  max slope  slope@PosE  \\\n",
       "0  5.311259   0.896881    1.114975   \n",
       "1  4.550722   0.548173    1.824240   \n",
       "2  4.980574   0.620616    1.611303   \n",
       "3  4.928367   0.570448    1.753008   \n",
       "4  4.564112   0.590657    1.693030   \n",
       "5  3.832297   0.722903    1.383311   \n",
       "6  4.171152   0.679336    1.472026   \n",
       "7  4.491271   0.766889    1.303970   \n",
       "8  5.348433   0.701038    1.426456   \n",
       "9  5.079398   0.715858    1.396924   \n",
       "\n",
       "                                                subj  \n",
       "0  /Users/marie/Documents/Projects/morph_project/...  \n",
       "1  /Users/marie/Documents/Projects/morph_project/...  \n",
       "2  /Users/marie/Documents/Projects/morph_project/...  \n",
       "3  /Users/marie/Documents/Projects/morph_project/...  \n",
       "4  /Users/marie/Documents/Projects/morph_project/...  \n",
       "5  /Users/marie/Documents/Projects/morph_project/...  \n",
       "6  /Users/marie/Documents/Projects/morph_project/...  \n",
       "7  /Users/marie/Documents/Projects/morph_project/...  \n",
       "8  /Users/marie/Documents/Projects/morph_project/...  \n",
       "9  /Users/marie/Documents/Projects/morph_project/...  "
      ]
     },
     "execution_count": 105,
     "metadata": {},
     "output_type": "execute_result"
    }
   ],
   "source": [
    "dfname = 'results_113M_inlab.csv'\n",
    "\n",
    "df_overview  = pd.DataFrame(response_person_dic)\n",
    "df_overview.to_csv(dfname)\n",
    "df_overview "
   ]
  },
  {
   "cell_type": "code",
   "execution_count": 18,
   "metadata": {},
   "outputs": [
    {
     "data": {
      "text/plain": [
       "u'/Users/marie/Documents/Projects/morph_project/Code/Sex_Morph'"
      ]
     },
     "execution_count": 18,
     "metadata": {},
     "output_type": "execute_result"
    }
   ],
   "source": [
    "pwd"
   ]
  },
  {
   "cell_type": "code",
   "execution_count": 4,
   "metadata": {},
   "outputs": [
    {
     "ename": "NameError",
     "evalue": "name 'popt' is not defined",
     "output_type": "error",
     "traceback": [
      "\u001b[0;31m---------------------------------------------------------------------------\u001b[0m",
      "\u001b[0;31mNameError\u001b[0m                                 Traceback (most recent call last)",
      "\u001b[0;32m<ipython-input-4-b47ee34e88b9>\u001b[0m in \u001b[0;36m<module>\u001b[0;34m()\u001b[0m\n\u001b[0;32m----> 1\u001b[0;31m \u001b[0mpopt\u001b[0m\u001b[0;34m\u001b[0m\u001b[0m\n\u001b[0m",
      "\u001b[0;31mNameError\u001b[0m: name 'popt' is not defined"
     ]
    }
   ],
   "source": [
    "popt"
   ]
  },
  {
   "cell_type": "code",
   "execution_count": 21,
   "metadata": {},
   "outputs": [
    {
     "data": {
      "text/plain": [
       "[3.916275551682482,\n",
       " 5.116921289974399,\n",
       " 5.168133758835553,\n",
       " 4.570795968375058,\n",
       " 3.3919931103689747,\n",
       " 3.0981853272984234,\n",
       " 4.40689693816398,\n",
       " 4.646796285139776,\n",
       " 4.6375807377209926,\n",
       " 3.3236135288855677]"
      ]
     },
     "execution_count": 21,
     "metadata": {},
     "output_type": "execute_result"
    }
   ],
   "source": [
    "Point_of_subj_equ"
   ]
  },
  {
   "cell_type": "code",
   "execution_count": 22,
   "metadata": {},
   "outputs": [
    {
     "data": {
      "text/plain": [
       "4.227719249644521"
      ]
     },
     "execution_count": 22,
     "metadata": {},
     "output_type": "execute_result"
    }
   ],
   "source": [
    "mean(Point_of_subj_equ)"
   ]
  },
  {
   "cell_type": "code",
   "execution_count": 23,
   "metadata": {},
   "outputs": [
    {
     "data": {
      "text/plain": [
       "[1.4028226398703916,\n",
       " 2.389315483019165,\n",
       " 206.60338983218173,\n",
       " 1.7248586125584486,\n",
       " 1.3049785682247588,\n",
       " 1.135204540270394,\n",
       " 1.7688138156945932,\n",
       " 1.5162567412874304,\n",
       " 1.2866427833823262,\n",
       " 1.092710484901807]"
      ]
     },
     "execution_count": 23,
     "metadata": {},
     "output_type": "execute_result"
    }
   ],
   "source": [
    "slope_at_pose"
   ]
  },
  {
   "cell_type": "code",
   "execution_count": 24,
   "metadata": {},
   "outputs": [
    {
     "data": {
      "text/plain": [
       "22.022499350139103"
      ]
     },
     "execution_count": 24,
     "metadata": {},
     "output_type": "execute_result"
    }
   ],
   "source": [
    "mean(slope_at_pose)"
   ]
  },
  {
   "cell_type": "code",
   "execution_count": 25,
   "metadata": {},
   "outputs": [
    {
     "data": {
      "text/plain": [
       "61.52802341375598"
      ]
     },
     "execution_count": 25,
     "metadata": {},
     "output_type": "execute_result"
    }
   ],
   "source": [
    "np.std(slope_at_pose)"
   ]
  },
  {
   "cell_type": "markdown",
   "metadata": {},
   "source": [
    "### Below we define the fitting function to be able to fit a sigmoid to our data. \n",
    "##### \"L\" stands for the value at an infinetly male face (most left on the continuum, even outside of the continuum that we present the subject with).\n",
    "##### \"R\" stands for the value at an infinetly female face (most right on the continuum, even outside of the continuum that we present the subject with)\n",
    "#### We assume that the switch from male to female happens somewhere on our continuum and outside of our continuum there won't be much change anymore. "
   ]
  },
  {
   "cell_type": "code",
   "execution_count": 80,
   "metadata": {},
   "outputs": [],
   "source": [
    "def fitting(x, x0, L, R, slope):\n",
    "    return L-((L-R)/(1+exp((-x+x0)/slope)))\n",
    "\n"
   ]
  },
  {
   "cell_type": "code",
   "execution_count": 110,
   "metadata": {},
   "outputs": [
    {
     "data": {
      "text/plain": [
       "array(['63M_83F', '63M_83F', '63M_83F', '63M_83F', '63M_83F', '63M_83F',\n",
       "       '63M_83F', '63M_83F', '63M_83F', '98M_056F', '98M_056F',\n",
       "       '98M_056F', '98M_056F', '98M_056F', '98M_056F', '98M_056F',\n",
       "       '98M_056F', '98M_056F', '113M_053F', '113M_053F', '113M_053F',\n",
       "       '113M_053F', '113M_053F', '113M_053F', '113M_053F', '113M_053F',\n",
       "       '113M_053F', '018M_019F', '018M_019F', '018M_019F', '018M_019F',\n",
       "       '018M_019F', '018M_019F', '018M_019F', '018M_019F', '018M_019F'],\n",
       "      dtype=object)"
      ]
     },
     "execution_count": 110,
     "metadata": {},
     "output_type": "execute_result"
    }
   ],
   "source": [
    "continuum"
   ]
  },
  {
   "cell_type": "code",
   "execution_count": 88,
   "metadata": {},
   "outputs": [],
   "source": [
    "# here we define the continuum and the steps (y-axis and x-axis)\n",
    "_63M_83F = male[:9]\n",
    "_63M_83F\n",
    "_98M_056F = male[9:18]\n",
    "_113M_053F = male[18:27]\n",
    "_018M019F = male[27:]\n",
    "\n",
    "\n",
    "steps = frame.Continuum.values[:9]"
   ]
  },
  {
   "cell_type": "code",
   "execution_count": 113,
   "metadata": {},
   "outputs": [
    {
     "data": {
      "text/plain": [
       "array([1, 2, 3, 4, 5, 6, 7, 8, 9])"
      ]
     },
     "execution_count": 113,
     "metadata": {},
     "output_type": "execute_result"
    }
   ],
   "source": [
    "steps"
   ]
  },
  {
   "cell_type": "code",
   "execution_count": 114,
   "metadata": {},
   "outputs": [
    {
     "data": {
      "text/plain": [
       "array([0.8, 1. , 1. , 1. , 0.8, 0.8, 0.6, 0.4, 0.2])"
      ]
     },
     "execution_count": 114,
     "metadata": {},
     "output_type": "execute_result"
    }
   ],
   "source": [
    "# _63M_83F\n",
    "_98M_056F"
   ]
  },
  {
   "cell_type": "code",
   "execution_count": 112,
   "metadata": {
    "scrolled": true
   },
   "outputs": [
    {
     "data": {
      "text/plain": [
       "[<matplotlib.lines.Line2D at 0x151f66cd90>]"
      ]
     },
     "execution_count": 112,
     "metadata": {},
     "output_type": "execute_result"
    },
    {
     "data": {
      "image/png": "[encoded data removed]",
      "text/plain": [
       "<Figure size 432x288 with 1 Axes>"
      ]
     },
     "metadata": {},
     "output_type": "display_data"
    }
   ],
   "source": [
    "# L = _63M_83F[0]\n",
    "# R = _63M_83F[-1]\n",
    "\n",
    "#L and R need to be defined, otherwise it will throw an error\n",
    "def fitting(x, x0, L, R, slope):\n",
    "    return L-((L-R)/(1+exp((-x+x0)/slope)))\n",
    "\n",
    "popt, pcov = scipy.optimize.curve_fit(fitting, steps, _63M_83F, bounds=(0,[10,1,1,inf]))\n",
    "plt.plot(np.arange(1,9,0.1), fitting(np.arange(1,9,0.1), *popt), 'r-', label='fit')\n",
    "plt.plot(steps, _63M_83F)\n",
    "\n",
    "\n",
    "\n",
    "\n",
    "\n",
    "\n"
   ]
  },
  {
   "cell_type": "code",
   "execution_count": 77,
   "metadata": {},
   "outputs": [
    {
     "data": {
      "text/plain": [
       "array([4.13626826e+00, 9.45463010e-01, 5.80828241e-33, 3.02949156e-01])"
      ]
     },
     "execution_count": 77,
     "metadata": {},
     "output_type": "execute_result"
    }
   ],
   "source": [
    "popt\n",
    "# array([4.13626826e+00, 9.45463010e-01, 5.80828241e-33, 3.02949156e-01]) = point of subj equality, L, R, slope)\n"
   ]
  },
  {
   "cell_type": "markdown",
   "metadata": {},
   "source": [
    "# The parameter \"slope\" in the fitting function is not the actual slope at the point of subjective equality but it is related to it\n",
    "\n",
    "\n",
    "## two reasons why it's not the \"real\" slope:\n",
    "### 1. even if L and R are 1 and 0, the real slope (PosE_slope) is 1/4*slope\n",
    "### 2. when L and R are not 1 and 0, you have to correct for it"
   ]
  },
  {
   "cell_type": "code",
   "execution_count": 81,
   "metadata": {},
   "outputs": [],
   "source": [
    "x0,L,R,slope = popt\n"
   ]
  },
  {
   "cell_type": "markdown",
   "metadata": {},
   "source": [
    "#### The cell below fixes that the point of subjective equality (PosE) is not equal to x0 if L and R are not 1 and 0 and calculates the real PosE."
   ]
  },
  {
   "cell_type": "code",
   "execution_count": 87,
   "metadata": {},
   "outputs": [
    {
     "data": {
      "text/plain": [
       "4.1012794830839905"
      ]
     },
     "execution_count": 87,
     "metadata": {},
     "output_type": "execute_result"
    }
   ],
   "source": [
    "# when L and R are not 1 and 0, x0 is not the point of subjective equality\n",
    "# this function finds the point of subjective equality in this case and in the normal case \n",
    "# the only time it fails is if L and R are exactly 0.5\n",
    "PosE = x0-slope*log((1-2*R)/(2*L-1))\n",
    "PosE"
   ]
  },
  {
   "cell_type": "markdown",
   "metadata": {},
   "source": [
    "#### In the next cell we calculate the slope at the point of subjective equality by taking the derivative (ableiten) at that PosE."
   ]
  },
  {
   "cell_type": "code",
   "execution_count": 95,
   "metadata": {},
   "outputs": [
    {
     "data": {
      "text/plain": [
       "0.7776198932757464"
      ]
     },
     "execution_count": 95,
     "metadata": {},
     "output_type": "execute_result"
    }
   ],
   "source": [
    "PosE_slope= -(1-2*L-2*R+4*L*R)/(4*L*slope-4*R*slope)\n",
    "PosE_slope"
   ]
  },
  {
   "cell_type": "code",
   "execution_count": 96,
   "metadata": {},
   "outputs": [
    {
     "data": {
      "text/plain": [
       "0.8252209813200363"
      ]
     },
     "execution_count": 96,
     "metadata": {},
     "output_type": "execute_result"
    }
   ],
   "source": [
    "# this is the slope at x0. This is just for comparison.\n",
    "1/4/slope"
   ]
  },
  {
   "cell_type": "code",
   "execution_count": 91,
   "metadata": {},
   "outputs": [
    {
     "data": {
      "text/plain": [
       "4.136268257843829"
      ]
     },
     "execution_count": 91,
     "metadata": {},
     "output_type": "execute_result"
    }
   ],
   "source": [
    "x0"
   ]
  },
  {
   "cell_type": "code",
   "execution_count": 70,
   "metadata": {},
   "outputs": [
    {
     "ename": "AttributeError",
     "evalue": "'numpy.ndarray' object has no attribute 'type'",
     "output_type": "error",
     "traceback": [
      "\u001b[0;31m---------------------------------------------------------------------------\u001b[0m",
      "\u001b[0;31mAttributeError\u001b[0m                            Traceback (most recent call last)",
      "\u001b[0;32m<ipython-input-70-cb09b7a7039a>\u001b[0m in \u001b[0;36m<module>\u001b[0;34m()\u001b[0m\n\u001b[0;32m----> 1\u001b[0;31m \u001b[0mpopt\u001b[0m\u001b[0;34m.\u001b[0m\u001b[0mtype\u001b[0m\u001b[0;34m(\u001b[0m\u001b[0;34m)\u001b[0m\u001b[0;34m\u001b[0m\u001b[0m\n\u001b[0m",
      "\u001b[0;31mAttributeError\u001b[0m: 'numpy.ndarray' object has no attribute 'type'"
     ]
    }
   ],
   "source": []
  },
  {
   "cell_type": "code",
   "execution_count": 72,
   "metadata": {},
   "outputs": [
    {
     "ename": "NameError",
     "evalue": "name 'python' is not defined",
     "output_type": "error",
     "traceback": [
      "\u001b[0;31m---------------------------------------------------------------------------\u001b[0m",
      "\u001b[0;31mNameError\u001b[0m                                 Traceback (most recent call last)",
      "\u001b[0;32m<ipython-input-72-50e2c9d9c6fd>\u001b[0m in \u001b[0;36m<module>\u001b[0;34m()\u001b[0m\n\u001b[0;32m----> 1\u001b[0;31m \u001b[0mpython\u001b[0m \u001b[0;34m-\u001b[0m\u001b[0;34m-\u001b[0m\u001b[0mversion\u001b[0m\u001b[0;34m\u001b[0m\u001b[0m\n\u001b[0m",
      "\u001b[0;31mNameError\u001b[0m: name 'python' is not defined"
     ]
    }
   ],
   "source": []
  },
  {
   "cell_type": "markdown",
   "metadata": {},
   "source": [
    "# The next code is to plot all of the fitted lines into one graph\n",
    "\n",
    "## Before running the next cell make 4 changes to the continua whenever you switch them"
   ]
  },
  {
   "cell_type": "code",
   "execution_count": 103,
   "metadata": {},
   "outputs": [
    {
     "name": "stdout",
     "output_type": "stream",
     "text": [
      "svFile for F001YQ0\n",
      "['svFile for F001YQ0']\n",
      "[3.7766257  1.02156275 0.04406976 0.65717077]\n",
      "svFile for f0042w6\n",
      "['svFile for F001YQ0', 'svFile for f0042w6']\n",
      "[ 5.12378298  1.00631183 -0.01265091  0.43308677]\n",
      "svFile for F003X50\n",
      "['svFile for F001YQ0', 'svFile for f0042w6', 'svFile for F003X50']\n",
      "[4.73718455e+00 1.00657804e+00 2.93353913e-03 4.60891963e-01]\n",
      "svFile for f003d5q\n",
      "['svFile for F001YQ0', 'svFile for f0042w6', 'svFile for F003X50', 'svFile for f003d5q']\n",
      "[4.59465441e+00 9.84039122e-01 2.74728728e-03 5.52712819e-01]\n",
      "svFile for f003d8d\n",
      "['svFile for F001YQ0', 'svFile for f0042w6', 'svFile for F003X50', 'svFile for f003d5q', 'svFile for f003d8d']\n",
      "[ 3.494859    0.97258001 -0.01847997  0.75900656]\n",
      "svFile for F003WYC\n",
      "['svFile for F001YQ0', 'svFile for f0042w6', 'svFile for F003X50', 'svFile for f003d5q', 'svFile for f003d8d', 'svFile for F003WYC']\n",
      "[2.75247118 1.10386292 0.05001109 0.85388139]\n",
      "svFile for F003WZD\n",
      "['svFile for F001YQ0', 'svFile for f0042w6', 'svFile for F003X50', 'svFile for f003d5q', 'svFile for f003d8d', 'svFile for F003WYC', 'svFile for F003WZD']\n",
      "[4.42239655 0.97992964 0.01001137 0.52321131]\n",
      "svFile for f003md7\n",
      "['svFile for F001YQ0', 'svFile for f0042w6', 'svFile for F003X50', 'svFile for f003d5q', 'svFile for f003d8d', 'svFile for F003WYC', 'svFile for F003WZD', 'svFile for f003md7']\n",
      "[ 4.668228    0.99725366 -0.00802174  0.66756934]\n",
      "svFile for f0043qz\n",
      "['svFile for F001YQ0', 'svFile for f0042w6', 'svFile for F003X50', 'svFile for f003d5q', 'svFile for f003d8d', 'svFile for F003WYC', 'svFile for F003WZD', 'svFile for f003md7', 'svFile for f0043qz']\n",
      "[4.63931856 0.98110776 0.01766093 0.71181228]\n",
      "svFile for f003dg6\n",
      "['svFile for F001YQ0', 'svFile for f0042w6', 'svFile for F003X50', 'svFile for f003d5q', 'svFile for f003d8d', 'svFile for F003WYC', 'svFile for F003WZD', 'svFile for f003md7', 'svFile for f0043qz', 'svFile for f003dg6']\n",
      "[3.51508295 0.90778344 0.01299751 0.74563138]\n"
     ]
    },
    {
     "data": {
      "image/png": "[encoded data removed]",
      "text/plain": [
       "<Figure size 432x288 with 1 Axes>"
      ]
     },
     "metadata": {},
     "output_type": "display_data"
    }
   ],
   "source": [
    "#new plotting function elimits the original data\n",
    "def plottingallinone(popt, steps, continuum, continuumname, name):\n",
    "    popt, pcov = scipy.optimize.curve_fit(fitting, running_mean(steps,2), running_mean(continuum,2))#, bounds=(0,[10,1,1,inf]))\n",
    "    plt.plot(np.arange(1,9,0.1), fitting(np.arange(1,9,0.1), *popt), 'r-', label='fit')\n",
    "    plt.ylim([0.0, 1.05])\n",
    "    plt.title(name +\" \" +str(continuumname))\n",
    "    plt.savefig(path.join(outpath, name + ' ' + str(continuumname + '.jpeg'))) # + ' ' + str(continuum[0]), format='jpeg')\n",
    "\n",
    "\n",
    "Point_of_subj_equ = []\n",
    "slope_at_pose = []\n",
    "names = []\n",
    "counter = 0\n",
    "outpath = \"/Users/marie/Documents/Projects/morph_project/sex_moprh/sex_morph_20_trials/data/results/63_83__113_53_inlab/sex_morph/graphs/csv_files/test/\"\n",
    "files= datafiles[0]\n",
    "re.sub(r'Users', \"\", files[0])\n",
    "subj = []\n",
    "response_person_dic = []\n",
    "max_slope = []\n",
    "\n",
    "for i in datafiles[0]:\n",
    "#     plt.clf() #removed the \"clear the plot\" command\n",
    "    name = datafiles[0][counter][137:-4]\n",
    "    print name\n",
    "    names.append(name)\n",
    "    print(names)\n",
    "    frame = pd.read_csv(i)\n",
    "    male = frame.e.values\n",
    "#     print len(male)\n",
    "    continuum = frame.Stimula.values\n",
    "#     print(continuum[0])\n",
    "    # the following four specifications are for 5 repeats per stimulus\n",
    "#     _63M_83F = male[:9]\n",
    "#     _98M_056F = male[9:18]\n",
    "#     _113M_053F = male[18:27]\n",
    "#     _018M_019F = male[27:]\n",
    "    # these specifications are for 20 reps per stim for 018M_019F and 098M_056F:\n",
    "#     _018M_019F = male[:9]\n",
    "    _113M_053F = male[9:]\n",
    "    _63M_83F = male[:9]\n",
    "#     _098M_056F = male[9:]\n",
    "#     print _63M_83F\n",
    "#     print _113M_053F\n",
    "    steps = frame.Continuum.values[:9]\n",
    "    popt, pcov = scipy.optimize.curve_fit(fitting, running_mean(steps,2), running_mean(_63M_83F, 2))#, bounds=(0,[10,1,1,inf]))\n",
    "#     plt.plot(np.arange(1,9,0.1), fitting(np.arange(1,9,0.1), *popt), 'r-', label='fit')\n",
    "#     plt.title(name)\n",
    "    x0,L,R,slope = popt\n",
    "    L = 1\n",
    "    R = 0\n",
    "    PosE = x0-slope*log((1-2*R)/(2*L-1)) #we are calculating this here in case L and R are not equal to 1 and 0\n",
    "    Point_of_subj_equ.append(PosE)\n",
    "    PosE_slope= 1/slope #-(1-2*L-2*R+4*L*R)/(4*L*slope-4*R*slope)\n",
    "    slope_at_pose.append(PosE_slope)\n",
    "    maxislope = slope\n",
    "    max_slope.append(maxislope)\n",
    "    new_str = re.sub(outpath + r'csvFile for ', \"\", i)\n",
    "    subj.append(new_str)\n",
    "    response_person_dic = {'subj': subj, 'PosE': Point_of_subj_equ, 'slope@PosE' : slope_at_pose, 'max slope' : max_slope}\n",
    "    plottingallinone(popt, steps, _63M_83F, continuum[0],name)\n",
    "#     print(slope, PosE_slope)\n",
    "    print(popt)\n",
    "    counter +=1\n",
    "    popt\n",
    "    \n",
    "    \n",
    "    "
   ]
  },
  {
   "cell_type": "code",
   "execution_count": null,
   "metadata": {},
   "outputs": [],
   "source": []
  },
  {
   "cell_type": "markdown",
   "metadata": {},
   "source": [
    "# The cell below creates a plot that has only one line: the line of a theoretical AP that has a slope of mean - 2SD of the group data"
   ]
  },
  {
   "cell_type": "code",
   "execution_count": 13,
   "metadata": {
    "scrolled": true
   },
   "outputs": [],
   "source": []
  },
  {
   "cell_type": "code",
   "execution_count": 117,
   "metadata": {
    "scrolled": true
   },
   "outputs": [
    {
     "data": {
      "image/png": "[encoded data removed]",
      "text/plain": [
       "<Figure size 432x288 with 1 Axes>"
      ]
     },
     "metadata": {},
     "output_type": "display_data"
    }
   ],
   "source": [
    "ap_mean = 0.4\n",
    "conti = '113M_online'\n",
    "popt = [5,1,0,1/ap_mean]\n",
    "plt.plot(np.arange(1,9,0.1), fitting(np.arange(1,9,0.1), *popt), 'r-', label='fit')\n",
    "plt.ylim([0.0, 1.05])\n",
    "plt.savefig(path.join(outpath, 'artificial_AP_for' + conti + '.jpeg')) # + ' ' + str(continuum[0]), format='jpeg')\n",
    "\n",
    "\n",
    "\n",
    "\n"
   ]
  },
  {
   "cell_type": "code",
   "execution_count": null,
   "metadata": {},
   "outputs": [],
   "source": []
  },
  {
   "cell_type": "code",
   "execution_count": 14,
   "metadata": {},
   "outputs": [
    {
     "ename": "NameError",
     "evalue": "name 'steps' is not defined",
     "output_type": "error",
     "traceback": [
      "\u001b[0;31m---------------------------------------------------------------------------\u001b[0m",
      "\u001b[0;31mNameError\u001b[0m                                 Traceback (most recent call last)",
      "\u001b[0;32m<ipython-input-14-613bca987f00>\u001b[0m in \u001b[0;36m<module>\u001b[0;34m()\u001b[0m\n\u001b[0;32m----> 1\u001b[0;31m \u001b[0mrunning_mean\u001b[0m\u001b[0;34m(\u001b[0m\u001b[0msteps\u001b[0m\u001b[0;34m,\u001b[0m\u001b[0;36m2\u001b[0m\u001b[0;34m)\u001b[0m\u001b[0;34m\u001b[0m\u001b[0m\n\u001b[0m\u001b[1;32m      2\u001b[0m \u001b[0mrunning_mean\u001b[0m\u001b[0;34m(\u001b[0m\u001b[0mcontinuum\u001b[0m\u001b[0;34m,\u001b[0m\u001b[0;36m2\u001b[0m\u001b[0;34m)\u001b[0m\u001b[0;34m\u001b[0m\u001b[0m\n",
      "\u001b[0;31mNameError\u001b[0m: name 'steps' is not defined"
     ]
    }
   ],
   "source": [
    "running_mean(steps,2)\n",
    "running_mean(continuum,2)"
   ]
  },
  {
   "cell_type": "code",
   "execution_count": 15,
   "metadata": {},
   "outputs": [
    {
     "data": {
      "text/plain": [
       "'/Users/marie/Documents/Projects/morph_project/sex_moprh/sex_morph_20_trials/data/results/63_83__113_53_online/sex_morph/graphs/csv_files/csvFile for Anoush K.csv'"
      ]
     },
     "execution_count": 15,
     "metadata": {},
     "output_type": "execute_result"
    }
   ],
   "source": [
    "(datafiles[0][0])"
   ]
  },
  {
   "cell_type": "code",
   "execution_count": 16,
   "metadata": {},
   "outputs": [
    {
     "ename": "NameError",
     "evalue": "name 'male' is not defined",
     "output_type": "error",
     "traceback": [
      "\u001b[0;31m---------------------------------------------------------------------------\u001b[0m",
      "\u001b[0;31mNameError\u001b[0m                                 Traceback (most recent call last)",
      "\u001b[0;32m<ipython-input-16-64c3bef6ed82>\u001b[0m in \u001b[0;36m<module>\u001b[0;34m()\u001b[0m\n\u001b[0;32m----> 1\u001b[0;31m \u001b[0mmale\u001b[0m\u001b[0;34m\u001b[0m\u001b[0m\n\u001b[0m",
      "\u001b[0;31mNameError\u001b[0m: name 'male' is not defined"
     ]
    }
   ],
   "source": [
    "male"
   ]
  },
  {
   "cell_type": "code",
   "execution_count": 11,
   "metadata": {},
   "outputs": [
    {
     "ename": "NameError",
     "evalue": "name 'continuum' is not defined",
     "output_type": "error",
     "traceback": [
      "\u001b[0;31m---------------------------------------------------------------------------\u001b[0m",
      "\u001b[0;31mNameError\u001b[0m                                 Traceback (most recent call last)",
      "\u001b[0;32m<ipython-input-11-ee32fcfdf5fb>\u001b[0m in \u001b[0;36m<module>\u001b[0;34m()\u001b[0m\n\u001b[0;32m----> 1\u001b[0;31m \u001b[0mcontinuum\u001b[0m\u001b[0;34m\u001b[0m\u001b[0m\n\u001b[0m",
      "\u001b[0;31mNameError\u001b[0m: name 'continuum' is not defined"
     ]
    }
   ],
   "source": [
    "continuum"
   ]
  }
 ],
 "metadata": {
  "kernelspec": {
   "display_name": "Python 3",
   "language": "python",
   "name": "python3"
  },
  "language_info": {
   "codemirror_mode": {
    "name": "ipython",
    "version": 2
   },
   "file_extension": ".py",
   "mimetype": "text/x-python",
   "name": "python",
   "nbconvert_exporter": "python",
   "pygments_lexer": "ipython2",
   "version": "2.7.15"
  }
 },
 "nbformat": 4,
 "nbformat_minor": 2
}
