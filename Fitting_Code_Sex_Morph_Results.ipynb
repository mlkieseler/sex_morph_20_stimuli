{
 "cells": [
  {
   "cell_type": "code",
   "execution_count": 65,
   "metadata": {},
   "outputs": [],
   "source": [
    "from __future__ import division"
   ]
  },
  {
   "cell_type": "code",
   "execution_count": 66,
   "metadata": {},
   "outputs": [],
   "source": [
    "import glob"
   ]
  },
  {
   "cell_type": "code",
   "execution_count": 67,
   "metadata": {},
   "outputs": [],
   "source": [
    "import scipy"
   ]
  },
  {
   "cell_type": "code",
   "execution_count": 68,
   "metadata": {},
   "outputs": [],
   "source": [
    "import numpy as np"
   ]
  },
  {
   "cell_type": "code",
   "execution_count": 69,
   "metadata": {},
   "outputs": [],
   "source": [
    "from numpy import *"
   ]
  },
  {
   "cell_type": "code",
   "execution_count": 70,
   "metadata": {},
   "outputs": [],
   "source": [
    "import matplotlib.pyplot as plt"
   ]
  },
  {
   "cell_type": "code",
   "execution_count": 71,
   "metadata": {},
   "outputs": [],
   "source": [
    "import pandas as pd"
   ]
  },
  {
   "cell_type": "code",
   "execution_count": 72,
   "metadata": {},
   "outputs": [],
   "source": [
    "import re"
   ]
  },
  {
   "cell_type": "code",
   "execution_count": 73,
   "metadata": {},
   "outputs": [],
   "source": [
    "from scipy import optimize as sp"
   ]
  },
  {
   "cell_type": "code",
   "execution_count": 74,
   "metadata": {},
   "outputs": [],
   "source": [
    "import os"
   ]
  },
  {
   "cell_type": "code",
   "execution_count": 75,
   "metadata": {},
   "outputs": [],
   "source": [
    "from os import path"
   ]
  },
  {
   "cell_type": "code",
   "execution_count": 76,
   "metadata": {},
   "outputs": [],
   "source": [
    "import csv"
   ]
  },
  {
   "cell_type": "code",
   "execution_count": 77,
   "metadata": {},
   "outputs": [],
   "source": [
    "directory = \"/Users/sararodriguez/Desktop/LAB/*.csv\""
   ]
  },
  {
   "cell_type": "code",
   "execution_count": 78,
   "metadata": {},
   "outputs": [],
   "source": [
    "datafiles = []"
   ]
  },
  {
   "cell_type": "code",
   "execution_count": 79,
   "metadata": {},
   "outputs": [],
   "source": [
    "datafiles.append(glob.glob(directory))"
   ]
  },
  {
   "cell_type": "code",
   "execution_count": 80,
   "metadata": {},
   "outputs": [
    {
     "data": {
      "text/plain": [
       "['/Users/sararodriguez/Desktop/LAB/F001YQ0_Results.csv']"
      ]
     },
     "execution_count": 80,
     "metadata": {},
     "output_type": "execute_result"
    }
   ],
   "source": [
    "datafiles[0]"
   ]
  },
  {
   "cell_type": "code",
   "execution_count": 81,
   "metadata": {},
   "outputs": [],
   "source": [
    "def fitting(x, x0, L, R, slope):\n",
    "    return L-((L-R)/(1+exp((-x+x0)/slope)))"
   ]
  },
  {
   "cell_type": "code",
   "execution_count": 82,
   "metadata": {},
   "outputs": [],
   "source": [
    "# len('/Users/marie/Documents/Projects/morph_project/data/pilot/sex_morph/sex_morph_results_20190619_1846/csv-results-files/CSV_Files/csvFile for')\n",
    "# name = datafiles[0][0][139:-4]\n",
    "# name"
   ]
  },
  {
   "cell_type": "code",
   "execution_count": 83,
   "metadata": {},
   "outputs": [],
   "source": [
    "# plot function\n",
    "\n",
    "def running_mean(x, N):\n",
    "    cumsum = np.cumsum(np.insert(x, 0, 0)) \n",
    "    return (cumsum[N:] - cumsum[:-N]) / float(N)\n",
    "\n",
    "\n",
    "def plotting(popt, steps, continuum, continuumname, name):\n",
    "    popt, pcov = scipy.optimize.curve_fit(fitting, running_mean(steps,2), running_mean(continuum,2))#, bounds=(0,[10,1,1,inf]))\n",
    "    plt.plot(np.arange(1,9,0.1), fitting(np.arange(1,9,0.1), *popt), 'r-', label='fit')\n",
    "    plt.plot(steps, continuum)\n",
    "    plt.ylim([0.0, 1.05])\n",
    "    plt.title(name +\" \" +str(continuumname))\n",
    "    plt.savefig(path.join(outpath, name + ' ' + str(continuumname + '.pdf'))) # + ' ' + str(continuum[0]), format='pdf')"
   ]
  },
  {
   "cell_type": "code",
   "execution_count": 84,
   "metadata": {},
   "outputs": [
    {
     "name": "stdout",
     "output_type": "stream",
     "text": [
      "F001YQ0_Results\n",
      "['F001YQ0_Results']\n",
      "[ 5.31125919e+00  9.66705340e-01 -2.98816466e-03  8.96881201e-01]\n"
     ]
    },
    {
     "data": {
      "image/png": "[encoded data removed]",
      "text/plain": [
       "<Figure size 432x288 with 1 Axes>"
      ]
     },
     "metadata": {
      "needs_background": "light"
     },
     "output_type": "display_data"
    }
   ],
   "source": [
    "Point_of_subj_equ = []\n",
    "slope_at_pose = []\n",
    "names = []\n",
    "counter = 0\n",
    "outpath = \"/Users/sararodriguez/Desktop/LAB/\"\n",
    "files= datafiles[0]\n",
    "re.sub(r'Users', \"\", files[0])\n",
    "subj = []\n",
    "response_person_dic = []\n",
    "max_slope = []\n",
    "\n",
    "for i in datafiles[0]:\n",
    "    plt.clf()\n",
    "    name = datafiles[0][counter][33:-4]\n",
    "    print(name)\n",
    "    names.append(name)\n",
    "    print(names)\n",
    "    frame = pd.read_csv(i, skiprows = 1)\n",
    "    male = frame.e.values\n",
    "#     print len(male)\n",
    "    continuum = frame.Stimula.values\n",
    "#     print(continuum[0])\n",
    "    # the following four specifications are for 5 repeats per stimulus\n",
    "#     _63M_83F = male[:9]\n",
    "#     _98M_056F = male[9:18]\n",
    "#     _113M_053F = male[18:27]\n",
    "#     _018M_019F = male[27:]\n",
    "    # these specifications are for 20 reps per stim for 018M_019F and 098M_056F:\n",
    "#     _018M_019F = male[:9]\n",
    "    ###CHECK CSV FILE FOR THE ORDER OF THE CONTINUA IN IT BEFORE RUNNING THIS!!!\n",
    "    _113M_053F = male[9:]\n",
    "    _63M_83F = male[:9]\n",
    "#     _098M_056F = male[9:]\n",
    "#     print _63M_83F\n",
    "    steps = frame.Continuum.values[9:] #change here to the value behind the continuum a few lines above\n",
    "    popt, pcov = scipy.optimize.curve_fit(fitting, running_mean(steps,2), running_mean(_113M_053F, 2))#, bounds=(0,[10,1,1,inf])) #change name of continuum in this line\n",
    "#     plt.plot(np.arange(1,9,0.1), fitting(np.arange(1,9,0.1), *popt), 'r-', label='fit')\n",
    "#     plt.title(name)\n",
    "    x0,L,R,slope = popt\n",
    "    L = 1\n",
    "    R = 0\n",
    "    PosE = x0-slope*log((1-2*R)/(2*L-1)) #we are calculating this here in case L and R are not equal to 1 and 0\n",
    "    Point_of_subj_equ.append(PosE)\n",
    "    PosE_slope= 1/slope #-(1-2*L-2*R+4*L*R)/(4*L*slope-4*R*slope)\n",
    "    slope_at_pose.append(PosE_slope)\n",
    "    maxislope = slope\n",
    "    max_slope.append(maxislope)\n",
    "    new_str = re.sub(outpath + r'csvFile for ', \"\", i)\n",
    "    subj.append(new_str)\n",
    "    response_person_dic = {'subj': subj, 'PosE': Point_of_subj_equ, 'slope@PosE' : slope_at_pose, 'max slope' : max_slope}\n",
    "    plotting(popt, steps, _113M_053F, continuum[9],name) #change continuum name here and number in braces after \"continuum\"\n",
    "#     print(slope, PosE_slope)\n",
    "    print(popt)\n",
    "    counter +=1\n",
    "    popt"
   ]
  },
  {
   "cell_type": "code",
   "execution_count": 85,
   "metadata": {},
   "outputs": [
    {
     "data": {
      "text/html": [
       "<div>\n",
       "<style scoped>\n",
       "    .dataframe tbody tr th:only-of-type {\n",
       "        vertical-align: middle;\n",
       "    }\n",
       "\n",
       "    .dataframe tbody tr th {\n",
       "        vertical-align: top;\n",
       "    }\n",
       "\n",
       "    .dataframe thead th {\n",
       "        text-align: right;\n",
       "    }\n",
       "</style>\n",
       "<table border=\"1\" class=\"dataframe\">\n",
       "  <thead>\n",
       "    <tr style=\"text-align: right;\">\n",
       "      <th></th>\n",
       "      <th>subj</th>\n",
       "      <th>PosE</th>\n",
       "      <th>slope@PosE</th>\n",
       "      <th>max slope</th>\n",
       "    </tr>\n",
       "  </thead>\n",
       "  <tbody>\n",
       "    <tr>\n",
       "      <th>0</th>\n",
       "      <td>/Users/sararodriguez/Desktop/LAB/F001YQ0_Resul...</td>\n",
       "      <td>5.311259</td>\n",
       "      <td>1.114975</td>\n",
       "      <td>0.896881</td>\n",
       "    </tr>\n",
       "  </tbody>\n",
       "</table>\n",
       "</div>"
      ],
      "text/plain": [
       "                                                subj      PosE  slope@PosE  \\\n",
       "0  /Users/sararodriguez/Desktop/LAB/F001YQ0_Resul...  5.311259    1.114975   \n",
       "\n",
       "   max slope  \n",
       "0   0.896881  "
      ]
     },
     "execution_count": 85,
     "metadata": {},
     "output_type": "execute_result"
    }
   ],
   "source": [
    "dfname = 'results_113M_inlab.csv'\n",
    "\n",
    "df_overview  = pd.DataFrame(response_person_dic)\n",
    "df_overview.to_csv(dfname)\n",
    "df_overview"
   ]
  },
  {
   "cell_type": "code",
   "execution_count": 86,
   "metadata": {},
   "outputs": [
    {
     "data": {
      "text/plain": [
       "'/Users/sararodriguez'"
      ]
     },
     "execution_count": 86,
     "metadata": {},
     "output_type": "execute_result"
    }
   ],
   "source": [
    "pwd"
   ]
  },
  {
   "cell_type": "code",
   "execution_count": 87,
   "metadata": {},
   "outputs": [
    {
     "data": {
      "text/plain": [
       "array([ 5.31125919e+00,  9.66705340e-01, -2.98816466e-03,  8.96881201e-01])"
      ]
     },
     "execution_count": 87,
     "metadata": {},
     "output_type": "execute_result"
    }
   ],
   "source": [
    "popt"
   ]
  },
  {
   "cell_type": "code",
   "execution_count": 88,
   "metadata": {},
   "outputs": [
    {
     "data": {
      "text/plain": [
       "[5.3112591915865845]"
      ]
     },
     "execution_count": 88,
     "metadata": {},
     "output_type": "execute_result"
    }
   ],
   "source": [
    "Point_of_subj_equ"
   ]
  },
  {
   "cell_type": "code",
   "execution_count": 95,
   "metadata": {},
   "outputs": [
    {
     "data": {
      "text/plain": [
       "5.3112591915865845"
      ]
     },
     "execution_count": 95,
     "metadata": {},
     "output_type": "execute_result"
    }
   ],
   "source": [
    "mean(Point_of_subj_equ)"
   ]
  },
  {
   "cell_type": "code",
   "execution_count": 96,
   "metadata": {},
   "outputs": [
    {
     "data": {
      "text/plain": [
       "[1.1149748700703013]"
      ]
     },
     "execution_count": 96,
     "metadata": {},
     "output_type": "execute_result"
    }
   ],
   "source": [
    "slope_at_pose"
   ]
  },
  {
   "cell_type": "code",
   "execution_count": 97,
   "metadata": {},
   "outputs": [
    {
     "data": {
      "text/plain": [
       "0.0"
      ]
     },
     "execution_count": 97,
     "metadata": {},
     "output_type": "execute_result"
    }
   ],
   "source": [
    "np.std(slope_at_pose)"
   ]
  },
  {
   "cell_type": "code",
   "execution_count": 98,
   "metadata": {},
   "outputs": [],
   "source": [
    "# why is this zero?"
   ]
  },
  {
   "cell_type": "code",
   "execution_count": 99,
   "metadata": {},
   "outputs": [],
   "source": [
    "def fitting(x, x0, L, R, slope):\n",
    "    return L-((L-R)/(1+exp((-x+x0)/slope)))"
   ]
  },
  {
   "cell_type": "code",
   "execution_count": 100,
   "metadata": {},
   "outputs": [
    {
     "data": {
      "text/plain": [
       "array(['63M_83F', '63M_83F', '63M_83F', '63M_83F', '63M_83F', '63M_83F',\n",
       "       '63M_83F', '63M_83F', '63M_83F', '113M_053F', '113M_053F',\n",
       "       '113M_053F', '113M_053F', '113M_053F', '113M_053F', '113M_053F',\n",
       "       '113M_053F', '113M_053F'], dtype=object)"
      ]
     },
     "execution_count": 100,
     "metadata": {},
     "output_type": "execute_result"
    }
   ],
   "source": [
    "continuum"
   ]
  },
  {
   "cell_type": "code",
   "execution_count": 101,
   "metadata": {},
   "outputs": [],
   "source": [
    "# here we define the continuum and the steps (y-axis and x-axis)\n",
    "_63M_83F = male[:9]\n",
    "_63M_83F # why is there nothing here?\n",
    "_98M_056F = male[9:18]\n",
    "_113M_053F = male[18:27]\n",
    "_018M019F = male[27:]\n",
    "\n",
    "\n",
    "steps = frame.Continuum.values[:9]"
   ]
  },
  {
   "cell_type": "code",
   "execution_count": 102,
   "metadata": {},
   "outputs": [
    {
     "data": {
      "text/plain": [
       "array([1, 2, 3, 4, 5, 6, 7, 8, 9])"
      ]
     },
     "execution_count": 102,
     "metadata": {},
     "output_type": "execute_result"
    }
   ],
   "source": [
    "steps"
   ]
  },
  {
   "cell_type": "code",
   "execution_count": 103,
   "metadata": {},
   "outputs": [
    {
     "data": {
      "text/plain": [
       "array([1.  , 0.95, 0.85, 0.85, 0.55, 0.3 , 0.1 , 0.05, 0.  ])"
      ]
     },
     "execution_count": 103,
     "metadata": {},
     "output_type": "execute_result"
    }
   ],
   "source": [
    "# _63M_83F\n",
    "_98M_056F"
   ]
  },
  {
   "cell_type": "code",
   "execution_count": 104,
   "metadata": {},
   "outputs": [
    {
     "data": {
      "text/plain": [
       "[<matplotlib.lines.Line2D at 0x11d1fcbd0>]"
      ]
     },
     "execution_count": 104,
     "metadata": {},
     "output_type": "execute_result"
    },
    {
     "data": {
      "image/png": "[encoded data removed]",
      "text/plain": [
       "<Figure size 432x288 with 1 Axes>"
      ]
     },
     "metadata": {
      "needs_background": "light"
     },
     "output_type": "display_data"
    }
   ],
   "source": [
    "# L = _63M_83F[0]\n",
    "# R = _63M_83F[-1]\n",
    "\n",
    "#L and R need to be defined, otherwise it will throw an error\n",
    "def fitting(x, x0, L, R, slope):\n",
    "    return L-((L-R)/(1+exp((-x+x0)/slope)))\n",
    "\n",
    "popt, pcov = scipy.optimize.curve_fit(fitting, steps, _63M_83F, bounds=(0,[10,1,1,inf]))\n",
    "plt.plot(np.arange(1,9,0.1), fitting(np.arange(1,9,0.1), *popt), 'r-', label='fit')\n",
    "plt.plot(steps, _63M_83F)"
   ]
  },
  {
   "cell_type": "code",
   "execution_count": 105,
   "metadata": {},
   "outputs": [
    {
     "data": {
      "text/plain": [
       "array([3.73596969, 0.99632033, 0.06540813, 0.42044539])"
      ]
     },
     "execution_count": 105,
     "metadata": {},
     "output_type": "execute_result"
    }
   ],
   "source": [
    "popt\n",
    "# array([4.13626826e+00, 9.45463010e-01, 5.80828241e-33, 3.02949156e-01]) = point of subj equality, L, R, slope)"
   ]
  },
  {
   "cell_type": "code",
   "execution_count": 106,
   "metadata": {},
   "outputs": [],
   "source": [
    "x0, L, R, slope = popt"
   ]
  },
  {
   "cell_type": "code",
   "execution_count": 107,
   "metadata": {},
   "outputs": [
    {
     "data": {
      "text/plain": [
       "3.7918107992682466"
      ]
     },
     "execution_count": 107,
     "metadata": {},
     "output_type": "execute_result"
    }
   ],
   "source": [
    "# when L and R are not 1 and 0, x0 is not the point of subjective equality\n",
    "# this function finds the point of subjective equality in this case and in the normal case \n",
    "# the only time it fails is if L and R are exactly 0.5\n",
    "PosE = x0-slope*log((1-2*R)/(2*L-1))\n",
    "PosE"
   ]
  },
  {
   "cell_type": "code",
   "execution_count": 108,
   "metadata": {},
   "outputs": [
    {
     "data": {
      "text/plain": [
       "0.5510935677351599"
      ]
     },
     "execution_count": 108,
     "metadata": {},
     "output_type": "execute_result"
    }
   ],
   "source": [
    "PosE_slope= -(1-2*L-2*R+4*L*R)/(4*L*slope-4*R*slope)\n",
    "PosE_slope"
   ]
  },
  {
   "cell_type": "code",
   "execution_count": 109,
   "metadata": {},
   "outputs": [
    {
     "data": {
      "text/plain": [
       "0.5946075421895224"
      ]
     },
     "execution_count": 109,
     "metadata": {},
     "output_type": "execute_result"
    }
   ],
   "source": [
    "# this is the slope at x0. This is just for comparison.\n",
    "1/4/slope"
   ]
  },
  {
   "cell_type": "code",
   "execution_count": 110,
   "metadata": {},
   "outputs": [
    {
     "data": {
      "text/plain": [
       "3.7359696879325455"
      ]
     },
     "execution_count": 110,
     "metadata": {},
     "output_type": "execute_result"
    }
   ],
   "source": [
    "x0"
   ]
  },
  {
   "cell_type": "code",
   "execution_count": 113,
   "metadata": {},
   "outputs": [
    {
     "name": "stdout",
     "output_type": "stream",
     "text": [
      "\n",
      "['']\n",
      "[3.7766257  1.02156275 0.04406976 0.65717077]\n"
     ]
    },
    {
     "data": {
      "image/png": "[encoded data removed]",
      "text/plain": [
       "<Figure size 432x288 with 1 Axes>"
      ]
     },
     "metadata": {
      "needs_background": "light"
     },
     "output_type": "display_data"
    }
   ],
   "source": [
    "#new plotting function elimits the original data\n",
    "def plottingallinone(popt, steps, continuum, continuumname, name):\n",
    "    popt, pcov = scipy.optimize.curve_fit(fitting, running_mean(steps,2), running_mean(continuum,2))#, bounds=(0,[10,1,1,inf]))\n",
    "    plt.plot(np.arange(1,9,0.1), fitting(np.arange(1,9,0.1), *popt), 'r-', label='fit')\n",
    "    plt.ylim([0.0, 1.05])\n",
    "    plt.title(name +\" \" +str(continuumname))\n",
    "    plt.savefig(path.join(outpath, name + ' ' + str(continuumname + '.pdf'))) # + ' ' + str(continuum[0]), format='pdf')\n",
    "\n",
    "\n",
    "Point_of_subj_equ = []\n",
    "slope_at_pose = []\n",
    "names = []\n",
    "counter = 0\n",
    "outpath = \"/Users/sararodriguez/Desktop/LAB/\"\n",
    "files= datafiles[0]\n",
    "re.sub(r'Users', \"\", files[0])\n",
    "subj = []\n",
    "response_person_dic = []\n",
    "max_slope = []\n",
    "\n",
    "for i in datafiles[0]:\n",
    "#     plt.clf() #removed the \"clear the plot\" command\n",
    "    name = datafiles[0][counter][137:-4]\n",
    "    print(name)\n",
    "    names.append(name)\n",
    "    print(names)\n",
    "    frame = pd.read_csv(i, skiprows = 1)\n",
    "    male = frame.e.values\n",
    "#     print len(male)\n",
    "    continuum = frame.Stimula.values\n",
    "#     print(continuum[0])\n",
    "    # the following four specifications are for 5 repeats per stimulus\n",
    "#     _63M_83F = male[:9]\n",
    "#     _98M_056F = male[9:18]\n",
    "#     _113M_053F = male[18:27]\n",
    "#     _018M_019F = male[27:]\n",
    "    # these specifications are for 20 reps per stim for 018M_019F and 098M_056F:\n",
    "#     _018M_019F = male[:9]\n",
    "    _113M_053F = male[9:]\n",
    "    _63M_83F = male[:9]\n",
    "#     _098M_056F = male[9:]\n",
    "#     print _63M_83F\n",
    "#     print _113M_053F\n",
    "    steps = frame.Continuum.values[:9]\n",
    "    popt, pcov = scipy.optimize.curve_fit(fitting, running_mean(steps, 2), running_mean(_63M_83F, 2))#, bounds=(0,[10,1,1,inf]))\n",
    "#     plt.plot(np.arange(1,9,0.1), fitting(np.arange(1,9,0.1), *popt), 'r-', label='fit')\n",
    "#     plt.title(name)\n",
    "    x0,L,R,slope = popt\n",
    "    L = 1\n",
    "    R = 0\n",
    "    PosE = x0-slope*log((1-2*R)/(2*L-1)) #we are calculating this here in case L and R are not equal to 1 and 0\n",
    "    Point_of_subj_equ.append(PosE)\n",
    "    PosE_slope= 1/slope #-(1-2*L-2*R+4*L*R)/(4*L*slope-4*R*slope)\n",
    "    slope_at_pose.append(PosE_slope)\n",
    "    maxislope = slope\n",
    "    max_slope.append(maxislope)\n",
    "    new_str = re.sub(outpath + r'csvFile for ', \"\", i)\n",
    "    subj.append(new_str)\n",
    "    response_person_dic = {'subj': subj, 'PosE': Point_of_subj_equ, 'slope@PosE' : slope_at_pose, 'max slope' : max_slope}\n",
    "    plottingallinone(popt, steps, _63M_83F, continuum[0],name)\n",
    "#     print(slope, PosE_slope)\n",
    "    print(popt)\n",
    "    counter +=1\n",
    "    popt"
   ]
  },
  {
   "cell_type": "code",
   "execution_count": 115,
   "metadata": {},
   "outputs": [
    {
     "data": {
      "image/png": "[encoded data removed]",
      "text/plain": [
       "<Figure size 432x288 with 1 Axes>"
      ]
     },
     "metadata": {
      "needs_background": "light"
     },
     "output_type": "display_data"
    }
   ],
   "source": [
    "ap_mean = 0.4\n",
    "conti = '113M_online'\n",
    "popt = [5,1,0,1/ap_mean]\n",
    "plt.plot(np.arange(1,9,0.1), fitting(np.arange(1,9,0.1), *popt), 'r-', label='fit')\n",
    "plt.ylim([0.0, 1.05])\n",
    "plt.savefig(path.join(outpath, 'artificial_AP_for' + conti + '.pdf')) # + ' ' + str(continuum[0]), format='pdf')"
   ]
  },
  {
   "cell_type": "code",
   "execution_count": 116,
   "metadata": {},
   "outputs": [
    {
     "ename": "TypeError",
     "evalue": "unsupported operand type(s) for +: 'int' and 'str'",
     "output_type": "error",
     "traceback": [
      "\u001b[0;31m---------------------------------------------------------------------------\u001b[0m",
      "\u001b[0;31mTypeError\u001b[0m                                 Traceback (most recent call last)",
      "\u001b[0;32m~/opt/anaconda2/envs/mypython3/lib/python3.7/site-packages/numpy/core/fromnumeric.py\u001b[0m in \u001b[0;36m_wrapfunc\u001b[0;34m(obj, method, *args, **kwds)\u001b[0m\n\u001b[1;32m     60\u001b[0m     \u001b[0;32mtry\u001b[0m\u001b[0;34m:\u001b[0m\u001b[0;34m\u001b[0m\u001b[0;34m\u001b[0m\u001b[0m\n\u001b[0;32m---> 61\u001b[0;31m         \u001b[0;32mreturn\u001b[0m \u001b[0mbound\u001b[0m\u001b[0;34m(\u001b[0m\u001b[0;34m*\u001b[0m\u001b[0margs\u001b[0m\u001b[0;34m,\u001b[0m \u001b[0;34m**\u001b[0m\u001b[0mkwds\u001b[0m\u001b[0;34m)\u001b[0m\u001b[0;34m\u001b[0m\u001b[0;34m\u001b[0m\u001b[0m\n\u001b[0m\u001b[1;32m     62\u001b[0m     \u001b[0;32mexcept\u001b[0m \u001b[0mTypeError\u001b[0m\u001b[0;34m:\u001b[0m\u001b[0;34m\u001b[0m\u001b[0;34m\u001b[0m\u001b[0m\n",
      "\u001b[0;31mTypeError\u001b[0m: unsupported operand type(s) for +: 'int' and 'str'",
      "\nDuring handling of the above exception, another exception occurred:\n",
      "\u001b[0;31mTypeError\u001b[0m                                 Traceback (most recent call last)",
      "\u001b[0;32m<ipython-input-116-613bca987f00>\u001b[0m in \u001b[0;36m<module>\u001b[0;34m\u001b[0m\n\u001b[1;32m      1\u001b[0m \u001b[0mrunning_mean\u001b[0m\u001b[0;34m(\u001b[0m\u001b[0msteps\u001b[0m\u001b[0;34m,\u001b[0m\u001b[0;36m2\u001b[0m\u001b[0;34m)\u001b[0m\u001b[0;34m\u001b[0m\u001b[0;34m\u001b[0m\u001b[0m\n\u001b[0;32m----> 2\u001b[0;31m \u001b[0mrunning_mean\u001b[0m\u001b[0;34m(\u001b[0m\u001b[0mcontinuum\u001b[0m\u001b[0;34m,\u001b[0m\u001b[0;36m2\u001b[0m\u001b[0;34m)\u001b[0m\u001b[0;34m\u001b[0m\u001b[0;34m\u001b[0m\u001b[0m\n\u001b[0m",
      "\u001b[0;32m<ipython-input-83-347b60dcbd96>\u001b[0m in \u001b[0;36mrunning_mean\u001b[0;34m(x, N)\u001b[0m\n\u001b[1;32m      2\u001b[0m \u001b[0;34m\u001b[0m\u001b[0m\n\u001b[1;32m      3\u001b[0m \u001b[0;32mdef\u001b[0m \u001b[0mrunning_mean\u001b[0m\u001b[0;34m(\u001b[0m\u001b[0mx\u001b[0m\u001b[0;34m,\u001b[0m \u001b[0mN\u001b[0m\u001b[0;34m)\u001b[0m\u001b[0;34m:\u001b[0m\u001b[0;34m\u001b[0m\u001b[0;34m\u001b[0m\u001b[0m\n\u001b[0;32m----> 4\u001b[0;31m     \u001b[0mcumsum\u001b[0m \u001b[0;34m=\u001b[0m \u001b[0mnp\u001b[0m\u001b[0;34m.\u001b[0m\u001b[0mcumsum\u001b[0m\u001b[0;34m(\u001b[0m\u001b[0mnp\u001b[0m\u001b[0;34m.\u001b[0m\u001b[0minsert\u001b[0m\u001b[0;34m(\u001b[0m\u001b[0mx\u001b[0m\u001b[0;34m,\u001b[0m \u001b[0;36m0\u001b[0m\u001b[0;34m,\u001b[0m \u001b[0;36m0\u001b[0m\u001b[0;34m)\u001b[0m\u001b[0;34m)\u001b[0m\u001b[0;34m\u001b[0m\u001b[0;34m\u001b[0m\u001b[0m\n\u001b[0m\u001b[1;32m      5\u001b[0m     \u001b[0;32mreturn\u001b[0m \u001b[0;34m(\u001b[0m\u001b[0mcumsum\u001b[0m\u001b[0;34m[\u001b[0m\u001b[0mN\u001b[0m\u001b[0;34m:\u001b[0m\u001b[0;34m]\u001b[0m \u001b[0;34m-\u001b[0m \u001b[0mcumsum\u001b[0m\u001b[0;34m[\u001b[0m\u001b[0;34m:\u001b[0m\u001b[0;34m-\u001b[0m\u001b[0mN\u001b[0m\u001b[0;34m]\u001b[0m\u001b[0;34m)\u001b[0m \u001b[0;34m/\u001b[0m \u001b[0mfloat\u001b[0m\u001b[0;34m(\u001b[0m\u001b[0mN\u001b[0m\u001b[0;34m)\u001b[0m\u001b[0;34m\u001b[0m\u001b[0;34m\u001b[0m\u001b[0m\n\u001b[1;32m      6\u001b[0m \u001b[0;34m\u001b[0m\u001b[0m\n",
      "\u001b[0;32m<__array_function__ internals>\u001b[0m in \u001b[0;36mcumsum\u001b[0;34m(*args, **kwargs)\u001b[0m\n",
      "\u001b[0;32m~/opt/anaconda2/envs/mypython3/lib/python3.7/site-packages/numpy/core/fromnumeric.py\u001b[0m in \u001b[0;36mcumsum\u001b[0;34m(a, axis, dtype, out)\u001b[0m\n\u001b[1;32m   2468\u001b[0m \u001b[0;34m\u001b[0m\u001b[0m\n\u001b[1;32m   2469\u001b[0m     \"\"\"\n\u001b[0;32m-> 2470\u001b[0;31m     \u001b[0;32mreturn\u001b[0m \u001b[0m_wrapfunc\u001b[0m\u001b[0;34m(\u001b[0m\u001b[0ma\u001b[0m\u001b[0;34m,\u001b[0m \u001b[0;34m'cumsum'\u001b[0m\u001b[0;34m,\u001b[0m \u001b[0maxis\u001b[0m\u001b[0;34m=\u001b[0m\u001b[0maxis\u001b[0m\u001b[0;34m,\u001b[0m \u001b[0mdtype\u001b[0m\u001b[0;34m=\u001b[0m\u001b[0mdtype\u001b[0m\u001b[0;34m,\u001b[0m \u001b[0mout\u001b[0m\u001b[0;34m=\u001b[0m\u001b[0mout\u001b[0m\u001b[0;34m)\u001b[0m\u001b[0;34m\u001b[0m\u001b[0;34m\u001b[0m\u001b[0m\n\u001b[0m\u001b[1;32m   2471\u001b[0m \u001b[0;34m\u001b[0m\u001b[0m\n\u001b[1;32m   2472\u001b[0m \u001b[0;34m\u001b[0m\u001b[0m\n",
      "\u001b[0;32m~/opt/anaconda2/envs/mypython3/lib/python3.7/site-packages/numpy/core/fromnumeric.py\u001b[0m in \u001b[0;36m_wrapfunc\u001b[0;34m(obj, method, *args, **kwds)\u001b[0m\n\u001b[1;32m     68\u001b[0m         \u001b[0;31m# Call _wrapit from within the except clause to ensure a potential\u001b[0m\u001b[0;34m\u001b[0m\u001b[0;34m\u001b[0m\u001b[0;34m\u001b[0m\u001b[0m\n\u001b[1;32m     69\u001b[0m         \u001b[0;31m# exception has a traceback chain.\u001b[0m\u001b[0;34m\u001b[0m\u001b[0;34m\u001b[0m\u001b[0;34m\u001b[0m\u001b[0m\n\u001b[0;32m---> 70\u001b[0;31m         \u001b[0;32mreturn\u001b[0m \u001b[0m_wrapit\u001b[0m\u001b[0;34m(\u001b[0m\u001b[0mobj\u001b[0m\u001b[0;34m,\u001b[0m \u001b[0mmethod\u001b[0m\u001b[0;34m,\u001b[0m \u001b[0;34m*\u001b[0m\u001b[0margs\u001b[0m\u001b[0;34m,\u001b[0m \u001b[0;34m**\u001b[0m\u001b[0mkwds\u001b[0m\u001b[0;34m)\u001b[0m\u001b[0;34m\u001b[0m\u001b[0;34m\u001b[0m\u001b[0m\n\u001b[0m\u001b[1;32m     71\u001b[0m \u001b[0;34m\u001b[0m\u001b[0m\n\u001b[1;32m     72\u001b[0m \u001b[0;34m\u001b[0m\u001b[0m\n",
      "\u001b[0;32m~/opt/anaconda2/envs/mypython3/lib/python3.7/site-packages/numpy/core/fromnumeric.py\u001b[0m in \u001b[0;36m_wrapit\u001b[0;34m(obj, method, *args, **kwds)\u001b[0m\n\u001b[1;32m     45\u001b[0m     \u001b[0;32mexcept\u001b[0m \u001b[0mAttributeError\u001b[0m\u001b[0;34m:\u001b[0m\u001b[0;34m\u001b[0m\u001b[0;34m\u001b[0m\u001b[0m\n\u001b[1;32m     46\u001b[0m         \u001b[0mwrap\u001b[0m \u001b[0;34m=\u001b[0m \u001b[0;32mNone\u001b[0m\u001b[0;34m\u001b[0m\u001b[0;34m\u001b[0m\u001b[0m\n\u001b[0;32m---> 47\u001b[0;31m     \u001b[0mresult\u001b[0m \u001b[0;34m=\u001b[0m \u001b[0mgetattr\u001b[0m\u001b[0;34m(\u001b[0m\u001b[0masarray\u001b[0m\u001b[0;34m(\u001b[0m\u001b[0mobj\u001b[0m\u001b[0;34m)\u001b[0m\u001b[0;34m,\u001b[0m \u001b[0mmethod\u001b[0m\u001b[0;34m)\u001b[0m\u001b[0;34m(\u001b[0m\u001b[0;34m*\u001b[0m\u001b[0margs\u001b[0m\u001b[0;34m,\u001b[0m \u001b[0;34m**\u001b[0m\u001b[0mkwds\u001b[0m\u001b[0;34m)\u001b[0m\u001b[0;34m\u001b[0m\u001b[0;34m\u001b[0m\u001b[0m\n\u001b[0m\u001b[1;32m     48\u001b[0m     \u001b[0;32mif\u001b[0m \u001b[0mwrap\u001b[0m\u001b[0;34m:\u001b[0m\u001b[0;34m\u001b[0m\u001b[0;34m\u001b[0m\u001b[0m\n\u001b[1;32m     49\u001b[0m         \u001b[0;32mif\u001b[0m \u001b[0;32mnot\u001b[0m \u001b[0misinstance\u001b[0m\u001b[0;34m(\u001b[0m\u001b[0mresult\u001b[0m\u001b[0;34m,\u001b[0m \u001b[0mmu\u001b[0m\u001b[0;34m.\u001b[0m\u001b[0mndarray\u001b[0m\u001b[0;34m)\u001b[0m\u001b[0;34m:\u001b[0m\u001b[0;34m\u001b[0m\u001b[0;34m\u001b[0m\u001b[0m\n",
      "\u001b[0;31mTypeError\u001b[0m: unsupported operand type(s) for +: 'int' and 'str'"
     ]
    }
   ],
   "source": [
    "running_mean(steps, 2)\n",
    "running_mean(continuum, 2)"
   ]
  },
  {
   "cell_type": "code",
   "execution_count": 117,
   "metadata": {},
   "outputs": [
    {
     "data": {
      "text/plain": [
       "'/Users/sararodriguez/Desktop/LAB/F001YQ0_Results.csv'"
      ]
     },
     "execution_count": 117,
     "metadata": {},
     "output_type": "execute_result"
    }
   ],
   "source": [
    "(datafiles[0][0])"
   ]
  },
  {
   "cell_type": "code",
   "execution_count": null,
   "metadata": {},
   "outputs": [],
   "source": []
  }
 ],
 "metadata": {
  "kernelspec": {
   "display_name": "Python 3",
   "language": "python",
   "name": "python3"
  },
  "language_info": {
   "codemirror_mode": {
    "name": "ipython",
    "version": 3
   },
   "file_extension": ".py",
   "mimetype": "text/x-python",
   "name": "python",
   "nbconvert_exporter": "python",
   "pygments_lexer": "ipython3",
   "version": "3.7.6"
  }
 },
 "nbformat": 4,
 "nbformat_minor": 2
}
